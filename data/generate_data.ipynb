{
 "cells": [
  {
   "cell_type": "code",
   "execution_count": 3,
   "id": "a9226c43",
   "metadata": {},
   "outputs": [
    {
     "name": "stdout",
     "output_type": "stream",
     "text": [
      "✅ Dataset generated and saved to ../data/product_data.csv\n"
     ]
    }
   ],
   "source": [
    "import pandas as pd\n",
    "import numpy as np\n",
    "\n",
    "np.random.seed(42)\n",
    "\n",
    "dates = pd.date_range(start='2023-01-01', end='2023-12-31')\n",
    "\n",
    "data = pd.DataFrame({\n",
    "    \"date\": dates,\n",
    "    \"new_users\": np.random.poisson(lam=50, size=len(dates)),\n",
    "    \"active_users\": np.random.poisson(lam=200, size=len(dates)),\n",
    "    \"revenue\": np.random.normal(loc=1000, scale=200, size=len(dates)).clip(min=200),\n",
    "    \"churn_rate\": np.random.uniform(0.01, 0.1, size=len(dates))\n",
    "})\n",
    "\n",
    "data.to_csv(\"../data/product_data.csv\", index=False)\n",
    "\n",
    "print(\"✅ Dataset generated and saved to ../data/product_data.csv\")"
   ]
  },
  {
   "cell_type": "code",
   "execution_count": null,
   "id": "2d072849",
   "metadata": {},
   "outputs": [],
   "source": []
  }
 ],
 "metadata": {
  "kernelspec": {
   "display_name": "Python 3",
   "language": "python",
   "name": "python3"
  },
  "language_info": {
   "codemirror_mode": {
    "name": "ipython",
    "version": 3
   },
   "file_extension": ".py",
   "mimetype": "text/x-python",
   "name": "python",
   "nbconvert_exporter": "python",
   "pygments_lexer": "ipython3",
   "version": "3.13.5"
  }
 },
 "nbformat": 4,
 "nbformat_minor": 5
}
